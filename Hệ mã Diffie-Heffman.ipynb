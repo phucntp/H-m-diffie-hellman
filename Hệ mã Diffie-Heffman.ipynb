{
 "cells": [
  {
   "cell_type": "markdown",
   "metadata": {},
   "source": [
    "<p>Cho 2 số công khai p và q<p>\n",
    "    <p>q là phần tử sinh của G=($Z^*_p$,x)\n",
    "<P>Cho 2 số a và b ngẫu nhiên nhỏ hơn p và bí mật<p>\n",
    "<p>B1:Tính A=$g^a$ và Tính B=$g^b$ <p>\n",
    "<p>B2:Tính Ka=$B^a$ là khóa chung<p>\n",
    "<p>Tinh Kb=$A^b$ là khóa chung<p>\n",
    "    <p> Ka=Kb <p>"
   ]
  },
  {
   "cell_type": "code",
   "execution_count": 14,
   "metadata": {},
   "outputs": [],
   "source": [
    "# Xác định khoá chung\n",
    "\n",
    "def find(q_bits):    #tim g và q với q_bits\n",
    "    q_bits <= 256 #số bit nhỏ hơn 256\n",
    "    q = random_prime(2^(q_bits-1), 2^q_bits)  # sinh ra ngẫu nhiên số nguyên tố p\n",
    "\n",
    "    while not is_prime(2*q+1):\n",
    "        q = next_prime(q)\n",
    "\n",
    "    p = 2*q+1    \n",
    "\n",
    "\n",
    "    ##tìm số nguyên g sao cho g<p và là một phần tử sinh của G\n",
    "    h = mod(primitive_root(p), p) \n",
    "    g = h^2                       \n",
    "    g = g^(10000) #tăng giá trị cho g\n",
    "    #print ('g =',g )\n",
    "    return p,g  # output 2 giá trị p và g"
   ]
  },
  {
   "cell_type": "markdown",
   "metadata": {},
   "source": [
    "<p> Ở đây ta có p là số nguyên tố được sinh ra ngẫu nhiên <p>\n",
    "<p> Và g là 1 phần tử sinh của G <p>"
   ]
  },
  {
   "cell_type": "markdown",
   "metadata": {},
   "source": [
    "<p> Ở đây ta có p là số nguyên tố được sinh ra ngẫu nhiên <p>\n",
    "<p> Và g là 1 phần tử sinh của G <p>"
   ]
  },
  {
   "cell_type": "code",
   "execution_count": 15,
   "metadata": {},
   "outputs": [],
   "source": [
    "def diffie_hellman(p,g):\n",
    "    a = randint(2,p-1) #số nguyên ngẫu nhiên a\n",
    "    b = randint(2,p-1) #số nguyên ngẫu nhiên b\n",
    "    A=mod(g^a,p) #tính g^a mod p\n",
    "    B=mod(g^b,p) #tính g^b mod p\n",
    "    KeyA=mod(A^b,p) #tính A^b mod p hay (g^a)^b mod p)\n",
    "    KeyB=mod(B^a,p) #tính B^a mod p hay (g^b)^a mod p)\n",
    "    print(\"g = \",g) #in ra g\n",
    "    print(\"p = \",p) #in ra p\n",
    "    print(\"a= \",a)  #in ra a\n",
    "    print(\"b= \",b)  #in ra b\n",
    "    print(\"A = \",A) #in ra A hay (g^a mod p)\n",
    "    print(\"B= \",B) #in ra B hay (g^b mod p)\n",
    "    print(\"Khoa chung: KeyA = KeyB = \",KeyA) #in ra khóa chung: (g^a)^b mod p\n",
    "    #print(KeyB) #in ra khóa chung: (g^b)^a mod p\n",
    "    return KeyA,a,b  #output khóa chung a và b"
   ]
  },
  {
   "cell_type": "markdown",
   "metadata": {},
   "source": [
    "<P>Input : p là số nguyên tố được sinh ra ngẫu nhiên<P>\n",
    "       <P> g là phần tử sinh của G<P>\n",
    "      <P>  a là số ngẫu nhiên cũng là số nguyên bí mật của Alice<P>\n",
    "       <P> b là số ngẫn nhiên cũng là số nguyên bí mật của Bob<P>\n",
    "\n",
    "<P>Output: A = g^a mod p được Alice gửi cho Bob<P>\n",
    "        <P>B = g^b mod p được Bod gửi cho Alice<P>"
   ]
  },
  {
   "cell_type": "code",
   "execution_count": 16,
   "metadata": {},
   "outputs": [],
   "source": [
    "# mã hóa và giải mã khóa\n",
    "\n",
    "#hàm băm\n",
    "def encode(s):\n",
    "    s = str(s) #make input a string\n",
    "    return sum(ord(s[i])*256^i for i in range(len(s)))\n",
    "\n",
    "def decode(n):\n",
    "    n = Integer(n)  #make input a integer\n",
    "    v = []\n",
    "    while n != 0:\n",
    "        v.append(chr(n % 256))\n",
    "        n //= 256     # this replaces n by floor(n/256)\n",
    "    return ''.join(v) "
   ]
  },
  {
   "cell_type": "markdown",
   "metadata": {},
   "source": [
    "<p>Input : s một đoạn messenger ban đầu <p>\n",
    "<p>Output : m một số đã được chuyển đổi <p>"
   ]
  },
  {
   "cell_type": "code",
   "execution_count": 17,
   "metadata": {},
   "outputs": [],
   "source": [
    "#mã hóa \n",
    "def encrypt(m,y,p):  #input:m, y là khóa chung ((g^a)^b mod p),p\n",
    "    return mod(m*y,p) #output m*y mod p"
   ]
  },
  {
   "cell_type": "markdown",
   "metadata": {},
   "source": [
    "<p>Input : m một số đã được chuyển đổi từ đoạn tin ban đầu<p>\n",
    "       <p> y là khoá chung<p>\n",
    "       <P> p là số nguyên tố ban đầu<p>\n",
    "<p>Output :n số được mã hoá từ m <p>"
   ]
  },
  {
   "cell_type": "code",
   "execution_count": 18,
   "metadata": {},
   "outputs": [
    {
     "data": {
      "text/plain": [
       "'Toi yeu toan-co-tin hoc'"
      ]
     },
     "execution_count": 18,
     "metadata": {},
     "output_type": "execute_result"
    }
   ],
   "source": [
    "#giải mã \n",
    "def decrypt(n,y,p,a,g,b): #input : n là m*y mod p ,y là khóa chung ,p,a,g,b\n",
    "    h=mod((g^a)^((p-1)-b),p) # h= y^-1        \n",
    "    return n*h #output n*(y^-1) hay m*y*(y^-1)\n",
    "M=decrypt(n,y,p,a,g,b) #M là giá trị sau khi giải mã\n",
    "decode(M) #kết quả  #output"
   ]
  },
  {
   "cell_type": "markdown",
   "metadata": {},
   "source": [
    "<P>Input : n số được mã hoá và cần được giải mã <P>\n",
    "       <P> y là khoá chung<P>\n",
    "       <P> p,a,b,g <P>\n",
    "<P>Output: M = s đoạn tin ban đầu<P>"
   ]
  },
  {
   "cell_type": "code",
   "execution_count": 19,
   "metadata": {},
   "outputs": [
    {
     "name": "stdout",
     "output_type": "stream",
     "text": [
      "g =  633796048918341916531347479958227754938692810059292072570506\n",
      "p =  1522664412759553595071337748599685590210763821771135455020119\n",
      "a=  614093286100226725094151805305948059051084222763069160680295\n",
      "b=  1261392913410105689913564831457869235104304586076069114475860\n",
      "A =  1345509265761897559281286843894472347374140809531417069776678\n",
      "B=  1346282947290487384285471545069048117908470704972910287090554\n",
      "Khoa chung: KeyA = KeyB =  1491755016696961525154886294047720942755056052866670692051767\n"
     ]
    }
   ],
   "source": [
    "#Ví dụ với 200bits\n",
    "f=find(200) #tìm p và g với 200 bits\n",
    "p=f[0]\n",
    "g=f[1]\n",
    "k=diffie_hellman(f[0],f[1])  #f[0] =p,f[1]=g\n",
    "y=k[0]\n",
    "a=k[1]\n",
    "b=k[2]\n"
   ]
  },
  {
   "cell_type": "code",
   "execution_count": 20,
   "metadata": {},
   "outputs": [
    {
     "name": "stdout",
     "output_type": "stream",
     "text": [
      "9523998370954337623691688617308594840187200867433803604\n"
     ]
    }
   ],
   "source": [
    "s=\"Toi yeu toan-co-tin hoc\" #Từ ban đầu # input\n",
    "m=encode(s) #m dạng số nguyên\n",
    "print(m) # output"
   ]
  },
  {
   "cell_type": "code",
   "execution_count": 21,
   "metadata": {},
   "outputs": [
    {
     "name": "stdout",
     "output_type": "stream",
     "text": [
      "51025138458502610671464962555009788714004855956912580759440\n"
     ]
    }
   ],
   "source": [
    "n=encrypt(m,y,p)\n",
    "print(n) #output"
   ]
  },
  {
   "cell_type": "code",
   "execution_count": 22,
   "metadata": {},
   "outputs": [
    {
     "data": {
      "text/plain": [
       "'Toi yeu toan-co-tin hoc'"
      ]
     },
     "execution_count": 22,
     "metadata": {},
     "output_type": "execute_result"
    }
   ],
   "source": [
    "M=decrypt(n,y,p,a,g,b) #M là giá trị sau khi giải mã\n",
    "decode(M) #kết quả  #output"
   ]
  },
  {
   "cell_type": "code",
   "execution_count": null,
   "metadata": {},
   "outputs": [],
   "source": []
  }
 ],
 "metadata": {
  "kernelspec": {
   "display_name": "SageMath 9.2",
   "language": "sage",
   "name": "sagemath"
  },
  "language_info": {
   "codemirror_mode": {
    "name": "ipython",
    "version": 3
   },
   "file_extension": ".py",
   "mimetype": "text/x-python",
   "name": "python",
   "nbconvert_exporter": "python",
   "pygments_lexer": "ipython3",
   "version": "3.7.7"
  }
 },
 "nbformat": 4,
 "nbformat_minor": 4
}
